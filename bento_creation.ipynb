{
 "cells": [
  {
   "cell_type": "markdown",
   "metadata": {},
   "source": [
    "### Bento Creation\n",
    "#### Take model from MLFlow registry and create bento"
   ]
  },
  {
   "cell_type": "code",
   "execution_count": 2,
   "metadata": {},
   "outputs": [
    {
     "name": "stderr",
     "output_type": "stream",
     "text": [
      "/home/andrew/programming/py/bentoml_example/.venv/lib/python3.10/site-packages/mlflow/protos/service_pb2.py:11: UserWarning: google.protobuf.service module is deprecated. RPC implementations should provide code generator plugins which generate code specific to the RPC implementation. service.py will be removed in Jan 2025\n",
      "  from google.protobuf import service as _service\n"
     ]
    }
   ],
   "source": [
    "import mlflow\n",
    "import bentoml"
   ]
  },
  {
   "cell_type": "code",
   "execution_count": null,
   "metadata": {},
   "outputs": [],
   "source": [
    "'''Pull from MLFlow registry'''\n",
    "def load_model(experiment_name, model_name, model_uri):\n",
    "    # Pull down model and save to local bento area\n",
    "    current_experiment = dict(mlflow.get_experiment_by_name(experiment_name))\n",
    "    experiment_id = current_experiment['experiment_id']\n",
    "    df = mlflow.search_runs([experiment_id])\n",
    "\n",
    "    model = bentoml.mlflow.import_model(\n",
    "        name = model_name,\n",
    "        model_uri = model_uri,\n",
    "        signatures = {'predict':{'batchable': True}}\n",
    "    )\n",
    "    return model\n",
    "\n",
    "model_uri = 'runs:/fcaee89aad284110ac6d2c82c4bf7e70/artifacts'\n",
    "imported_model = load_model('Iris', 'iris-svc', model_uri)"
   ]
  },
  {
   "cell_type": "code",
   "execution_count": null,
   "metadata": {},
   "outputs": [
    {
     "data": {
      "text/plain": [
       "Model(tag=\"iris-svc:2oznhdgotkv5d7p6\", path=\"/home/andrew/bentoml/models/iris-svc/2oznhdgotkv5d7p6/\")"
      ]
     },
     "execution_count": 6,
     "metadata": {},
     "output_type": "execute_result"
    }
   ],
   "source": [
    "'''We now have a BentoML model saved to local'''\n",
    "imported_model"
   ]
  },
  {
   "cell_type": "code",
   "execution_count": 8,
   "metadata": {},
   "outputs": [
    {
     "name": "stdout",
     "output_type": "stream",
     "text": [
      "\u001b[1m \u001b[0m\u001b[1mTag                      \u001b[0m\u001b[1m \u001b[0m\u001b[1m \u001b[0m\u001b[1mModule        \u001b[0m\u001b[1m \u001b[0m\u001b[1m \u001b[0m\u001b[1mSize    \u001b[0m\u001b[1m \u001b[0m\u001b[1m \u001b[0m\u001b[1mCreation Time      \u001b[0m\u001b[1m \u001b[0m\n",
      " iris-svc:2oznhdgotkv5d7p6  bentoml.mlflow  5.50 KiB  2025-01-09 15:03:04 \n"
     ]
    }
   ],
   "source": [
    "'''Show the models available via CLI'''\n",
    "! bentoml models list"
   ]
  },
  {
   "cell_type": "code",
   "execution_count": 12,
   "metadata": {},
   "outputs": [
    {
     "name": "stdout",
     "output_type": "stream",
     "text": [
      "bento_creation.ipynb  mlruns\t   requirements.txt\n",
      "bentofile.yaml\t      __pycache__  service.py\n",
      "classifier.ipynb      README.md    service_request.py\n"
     ]
    }
   ],
   "source": [
    "'''We should  have the prerequisite files ready...'''\n",
    "! ls"
   ]
  }
 ],
 "metadata": {
  "kernelspec": {
   "display_name": ".venv",
   "language": "python",
   "name": "python3"
  },
  "language_info": {
   "codemirror_mode": {
    "name": "ipython",
    "version": 3
   },
   "file_extension": ".py",
   "mimetype": "text/x-python",
   "name": "python",
   "nbconvert_exporter": "python",
   "pygments_lexer": "ipython3",
   "version": "3.10.12"
  }
 },
 "nbformat": 4,
 "nbformat_minor": 2
}
